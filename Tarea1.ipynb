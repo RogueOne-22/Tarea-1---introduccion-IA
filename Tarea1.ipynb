{
  "nbformat": 4,
  "nbformat_minor": 0,
  "metadata": {
    "colab": {
      "provenance": [],
      "toc_visible": true,
      "authorship_tag": "ABX9TyNZnn8n578fFeu41zcpdf59",
      "include_colab_link": true
    },
    "kernelspec": {
      "name": "python3",
      "display_name": "Python 3"
    },
    "language_info": {
      "name": "python"
    }
  },
  "cells": [
    {
      "cell_type": "markdown",
      "metadata": {
        "id": "view-in-github",
        "colab_type": "text"
      },
      "source": [
        "<a href=\"https://colab.research.google.com/github/RogueOne-22/Tarea-1---introduccion-IA/blob/main/Tarea1.ipynb\" target=\"_parent\"><img src=\"https://colab.research.google.com/assets/colab-badge.svg\" alt=\"Open In Colab\"/></a>"
      ]
    },
    {
      "cell_type": "markdown",
      "source": [
        "Tarea 1:  "
      ],
      "metadata": {
        "id": "12OhNwqA9dB4"
      }
    },
    {
      "cell_type": "code",
      "source": [
        "# ========================\n",
        "# 1. VARIABLES DE ESTADO\n",
        "# ========================\n",
        "estado_robot = {\n",
        "    \"posicion\": (0, 0),\n",
        "    \"bateria\": 100,\n",
        "    \"objetivo_alcanzado\": False\n",
        "}\n",
        "\n",
        "print(\"Estado inicial del robot:\", estado_robot)\n",
        "\n",
        "# ========================\n",
        "# 2. ESPACIO DE ESTADOS\n",
        "# ========================\n",
        "posiciones = [(x, y) for x in range(3) for y in range(3)]\n",
        "baterias = [\"100\", \"85\", \"70\", \"55\", \"40\", \"25\", \"10\"]\n",
        "\n",
        "espacio_estados = [(p, b) for p in posiciones for b in baterias]\n",
        "print(\"\\nTotal de estados posibles:\", len(espacio_estados))\n",
        "print(\"Ejemplos de estados:\", espacio_estados[:5])\n",
        "\n",
        "# ========================\n",
        "# 3. ESPACIO DE ACCIONES\n",
        "# ========================\n",
        "acciones = [\"adelante\", \"atras\", \"izquierda\", \"derecha\", \"recargar\"]\n",
        "print(\"\\nAcciones posibles:\", acciones)\n",
        "\n",
        "# ========================\n",
        "# 4. FUNCIÓN DE RECOMPENSA\n",
        "# ========================\n",
        "def recompensa(accion, estado, pudo_moverse):\n",
        "    if accion == \"recargar\":\n",
        "        return 5\n",
        "    elif estado[\"objetivo_alcanzado\"]:\n",
        "        return 20\n",
        "    elif not pudo_moverse and accion in [\"adelante\", \"atras\", \"izquierda\", \"derecha\"]:\n",
        "        return -10   # Intento inválido sin batería\n",
        "    elif accion in [\"adelante\", \"atras\", \"izquierda\", \"derecha\"]:\n",
        "        if estado[\"bateria\"] <= 15:\n",
        "            return -5  # Penalización extra por moverse con batería baja\n",
        "        return -1\n",
        "    else:\n",
        "        return 0\n",
        "\n",
        "# ========================\n",
        "# 5. AMBIENTE Y SIMULACIÓN\n",
        "# ========================\n",
        "import random\n",
        "\n",
        "def mover_robot(estado, accion):\n",
        "    x, y = estado[\"posicion\"]\n",
        "    pudo_moverse = False\n",
        "\n",
        "    if estado[\"bateria\"] > 20:\n",
        "        if accion == \"adelante\":\n",
        "            x = min(x + 1, 2)\n",
        "        elif accion == \"atras\":\n",
        "            x = max(x - 1, 0)\n",
        "        elif accion == \"derecha\":\n",
        "            y = min(y + 1, 2)\n",
        "        elif accion == \"izquierda\":\n",
        "            y = max(y - 1, 0)\n",
        "\n",
        "        estado[\"posicion\"] = (x, y)\n",
        "        estado[\"bateria\"] = max(0, estado[\"bateria\"] - 10)\n",
        "        pudo_moverse = True\n",
        "\n",
        "\n",
        "    elif estado[\"bateria\"] <= 20:\n",
        "        accion == \"recargar\"\n",
        "        estado[\"bateria\"] = 100\n",
        "        print(\"🔋 Batería recargada al 100%\")\n",
        "\n",
        "    else:\n",
        "        print(\"⚠️ No puede moverse, batería agotada. Debe recargar primero.\")\n",
        "\n",
        "    if estado[\"posicion\"] == (2, 2):\n",
        "        estado[\"objetivo_alcanzado\"] = True\n",
        "        return estado, pudo_moverse\n",
        "\n",
        "    return estado, pudo_moverse\n",
        "\n",
        "# ========================\n",
        "# 6. SIMULACIÓN DEL ROBOT\n",
        "# ========================\n",
        "estado = {\"posicion\": (0, 0), \"bateria\": 40, \"objetivo_alcanzado\": False}\n",
        "recompensa_total = 0\n",
        "\n",
        "for paso in range(15):\n",
        "    accion = random.choice(acciones)\n",
        "    if estado[\"objetivo_alcanzado\"]:\n",
        "      print(\"✅ el robot se ha detenido alcanzó el objetivo. +20 puntos\")\n",
        "      recompensa_total += 20\n",
        "      break\n",
        "\n",
        "    # Si no tiene batería, solo puede recargar\n",
        "    if estado[\"bateria\"] == 0 and accion != \"recargar\":\n",
        "        accion = \"recargar\"\n",
        "\n",
        "    estado, pudo_moverse = mover_robot(estado, accion)\n",
        "    r = recompensa(accion, estado, pudo_moverse)\n",
        "    recompensa_total += r\n",
        "\n",
        "    print(f\"Paso {paso+1}: Acción = {accion}, Estado = {estado}, Recompensa = {r}\")\n",
        "\n",
        "print(\"\\nRecompensa total obtenida:\", recompensa_total)\n"
      ],
      "metadata": {
        "colab": {
          "base_uri": "https://localhost:8080/"
        },
        "id": "leXSDKunKsoH",
        "outputId": "fda2410c-5118-41f3-d826-2e9fc5366a62"
      },
      "execution_count": 49,
      "outputs": [
        {
          "output_type": "stream",
          "name": "stdout",
          "text": [
            "Estado inicial del robot: {'posicion': (0, 0), 'bateria': 100, 'objetivo_alcanzado': False}\n",
            "\n",
            "Total de estados posibles: 63\n",
            "Ejemplos de estados: [((0, 0), '100'), ((0, 0), '85'), ((0, 0), '70'), ((0, 0), '55'), ((0, 0), '40')]\n",
            "\n",
            "Acciones posibles: ['adelante', 'atras', 'izquierda', 'derecha', 'recargar']\n",
            "Paso 1: Acción = atras, Estado = {'posicion': (0, 0), 'bateria': 30, 'objetivo_alcanzado': False}, Recompensa = -1\n",
            "Paso 2: Acción = adelante, Estado = {'posicion': (1, 0), 'bateria': 20, 'objetivo_alcanzado': False}, Recompensa = -1\n",
            "🔋 Batería recargada al 100%\n",
            "Paso 3: Acción = derecha, Estado = {'posicion': (1, 0), 'bateria': 100, 'objetivo_alcanzado': False}, Recompensa = -10\n",
            "Paso 4: Acción = adelante, Estado = {'posicion': (2, 0), 'bateria': 90, 'objetivo_alcanzado': False}, Recompensa = -1\n",
            "Paso 5: Acción = recargar, Estado = {'posicion': (2, 0), 'bateria': 80, 'objetivo_alcanzado': False}, Recompensa = 5\n",
            "Paso 6: Acción = adelante, Estado = {'posicion': (2, 0), 'bateria': 70, 'objetivo_alcanzado': False}, Recompensa = -1\n",
            "Paso 7: Acción = recargar, Estado = {'posicion': (2, 0), 'bateria': 60, 'objetivo_alcanzado': False}, Recompensa = 5\n",
            "Paso 8: Acción = izquierda, Estado = {'posicion': (2, 0), 'bateria': 50, 'objetivo_alcanzado': False}, Recompensa = -1\n",
            "Paso 9: Acción = recargar, Estado = {'posicion': (2, 0), 'bateria': 40, 'objetivo_alcanzado': False}, Recompensa = 5\n",
            "Paso 10: Acción = izquierda, Estado = {'posicion': (2, 0), 'bateria': 30, 'objetivo_alcanzado': False}, Recompensa = -1\n",
            "Paso 11: Acción = izquierda, Estado = {'posicion': (2, 0), 'bateria': 20, 'objetivo_alcanzado': False}, Recompensa = -1\n",
            "🔋 Batería recargada al 100%\n",
            "Paso 12: Acción = recargar, Estado = {'posicion': (2, 0), 'bateria': 100, 'objetivo_alcanzado': False}, Recompensa = 5\n",
            "Paso 13: Acción = adelante, Estado = {'posicion': (2, 0), 'bateria': 90, 'objetivo_alcanzado': False}, Recompensa = -1\n",
            "Paso 14: Acción = recargar, Estado = {'posicion': (2, 0), 'bateria': 80, 'objetivo_alcanzado': False}, Recompensa = 5\n",
            "Paso 15: Acción = izquierda, Estado = {'posicion': (2, 0), 'bateria': 70, 'objetivo_alcanzado': False}, Recompensa = -1\n",
            "\n",
            "Recompensa total obtenida: 6\n"
          ]
        }
      ]
    }
  ]
}